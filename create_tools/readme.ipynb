{
 "cells": [
  {
   "cell_type": "code",
   "execution_count": null,
   "metadata": {},
   "outputs": [],
   "source": [
    "python create_attn_map.py --heatmap_root_path /home/r10user13/TOP/experiment/lung_typing_full_train/output/heatmap  --attn_score_root_path /home/r10user13/TOP/experiment/lung_typing_full_train/output/attn_score --seg --process_list /home/r10user13/Capstone/TOP/experiment/LUNG/heatmap/process_list/test_20.csv"
   ]
  }
 ],
 "metadata": {
  "language_info": {
   "name": "python"
  }
 },
 "nbformat": 4,
 "nbformat_minor": 2
}
